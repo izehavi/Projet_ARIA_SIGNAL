{
 "cells": [
  {
   "cell_type": "markdown",
   "id": "12cfebee-f10c-4713-bb3c-1876a19073b5",
   "metadata": {},
   "source": [
    "# 1. Importation de bibliothèque"
   ]
  },
  {
   "cell_type": "code",
   "execution_count": 3,
   "id": "d3ee53d3-dae7-4874-94b8-0e3628f5c605",
   "metadata": {},
   "outputs": [],
   "source": [
    "# Load this to check if all packages are installed\n",
    "import numpy as np\n",
    "from matplotlib import pyplot as plt\n",
    "from scipy import signal\n",
    "from scipy import stats\n",
    "from scipy.fft import fft, ifft\n",
    "from scipy.signal import find_peaks, butter, filtfilt\n",
    "from statsmodels.tsa.ar_model import AutoReg\n",
    "from sporco.admm import bpdn\n",
    "from statsmodels.regression.linear_model import yule_walker\n",
    "from sklearn.neighbors import KNeighborsClassifier\n",
    "from sklearn.model_selection import cross_val_score\n",
    "from sklearn import linear_model\n",
    "import time\n",
    "import ruptures as rpt\n",
    "from loadmydata.load_uea_ucr import load_uea_ucr_data"
   ]
  },
  {
   "cell_type": "code",
   "execution_count": 4,
   "id": "da878edb-f36f-475d-891d-f566a39282c5",
   "metadata": {},
   "outputs": [],
   "source": [
    "#Constante\n",
    "Fe = 50"
   ]
  },
  {
   "cell_type": "code",
   "execution_count": null,
   "id": "90dc3cc1-022e-45e3-a283-7fea1551e149",
   "metadata": {},
   "outputs": [],
   "source": []
  }
 ],
 "metadata": {
  "kernelspec": {
   "display_name": "Python 3 (ipykernel)",
   "language": "python",
   "name": "python3"
  },
  "language_info": {
   "codemirror_mode": {
    "name": "ipython",
    "version": 3
   },
   "file_extension": ".py",
   "mimetype": "text/x-python",
   "name": "python",
   "nbconvert_exporter": "python",
   "pygments_lexer": "ipython3",
   "version": "3.11.7"
  }
 },
 "nbformat": 4,
 "nbformat_minor": 5
}
